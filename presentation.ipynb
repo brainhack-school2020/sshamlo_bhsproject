{
  "nbformat": 4,
  "nbformat_minor": 0,
  "metadata": {
    "colab": {
      "name": "presentation.ipynb",
      "provenance": []
    },
    "kernelspec": {
      "name": "python3",
      "display_name": "Python 3"
    }
  },
  "cells": [
    {
      "cell_type": "markdown",
      "metadata": {
        "id": "Ra2jatEot3k2",
        "colab_type": "text"
      },
      "source": [
        "# **Introduction**\n",
        "\n",
        "\n",
        "My name is Shiva Shamloo. I am a master student in the Concordia University. I joined the BrainHack school in order to gain some experience with neuroimage data and to find out more about the algorithms and the methods used in the neuroscience. For my project I decided to work on brain decoding in order to get familiarize with the fMRI data."
      ]
    },
    {
      "cell_type": "code",
      "metadata": {
        "id": "86yHggov038v",
        "colab_type": "code",
        "colab": {
          "base_uri": "https://localhost:8080/",
          "height": 224
        },
        "outputId": "8e295d36-e42e-44eb-be46-7ce029247288"
      },
      "source": [
        "!pip install nilearn"
      ],
      "execution_count": 2,
      "outputs": [
        {
          "output_type": "stream",
          "text": [
            "Collecting nilearn\n",
            "\u001b[?25l  Downloading https://files.pythonhosted.org/packages/b9/c2/f5f1bdd37a3da28b3b34305e4ba27cce468db6073998d62a38abd0e281da/nilearn-0.6.2-py3-none-any.whl (2.5MB)\n",
            "\u001b[K     |████████████████████████████████| 2.5MB 2.7MB/s \n",
            "\u001b[?25hRequirement already satisfied: sklearn in /usr/local/lib/python3.6/dist-packages (from nilearn) (0.0)\n",
            "Requirement already satisfied: scikit-learn>=0.19 in /usr/local/lib/python3.6/dist-packages (from nilearn) (0.22.2.post1)\n",
            "Requirement already satisfied: joblib>=0.11 in /usr/local/lib/python3.6/dist-packages (from nilearn) (0.15.1)\n",
            "Requirement already satisfied: nibabel>=2.0.2 in /usr/local/lib/python3.6/dist-packages (from nilearn) (3.0.2)\n",
            "Requirement already satisfied: numpy>=1.11 in /usr/local/lib/python3.6/dist-packages (from nilearn) (1.18.4)\n",
            "Requirement already satisfied: scipy>=0.19 in /usr/local/lib/python3.6/dist-packages (from nilearn) (1.4.1)\n",
            "Installing collected packages: nilearn\n",
            "Successfully installed nilearn-0.6.2\n"
          ],
          "name": "stdout"
        }
      ]
    },
    {
      "cell_type": "code",
      "metadata": {
        "id": "almvsi790k1_",
        "colab_type": "code",
        "colab": {}
      },
      "source": [
        "from sklearn.multiclass import OneVsOneClassifier, OneVsRestClassifier\n",
        "from sklearn.gaussian_process import GaussianProcessClassifier\n",
        "from sklearn.ensemble import GradientBoostingClassifier\n",
        "from sklearn.gaussian_process.kernels import RBF\n",
        "from sklearn.model_selection import train_test_split\n",
        "from sklearn.model_selection import cross_val_score\n",
        "from sklearn.neighbors import KNeighborsClassifier\n",
        "from sklearn.linear_model import LogisticRegression\n",
        "from nilearn.input_data import NiftiMasker\n",
        "from sklearn.metrics import classification_report\n",
        "from matplotlib import pyplot as plt\n",
        "from nilearn.plotting import plot_stat_map, show\n",
        "from nilearn import datasets\n",
        "from sklearn.svm import SVC\n",
        "from nilearn import image\n",
        "import pandas as pd"
      ],
      "execution_count": 0,
      "outputs": []
    },
    {
      "cell_type": "markdown",
      "metadata": {
        "id": "7kPx1oYp1MbS",
        "colab_type": "text"
      },
      "source": [
        "# Loading the data\n",
        "\n",
        "For this rpoject I will be using the Haxby dataset which is already preprocessed and it is available in the nilearn. The dataset is consist of the fMRI data of 6 people: 5 women and one man. For this project I will be using ventral temporal cortex for training the model. \n"
      ]
    },
    {
      "cell_type": "code",
      "metadata": {
        "id": "Xh5kGNnR2OEa",
        "colab_type": "code",
        "colab": {}
      },
      "source": [
        "haxby_dataset = datasets.fetch_haxby()\n",
        "\n",
        "fmri_filename = haxby_dataset.func[0]\n",
        "\n",
        "mask_filename = haxby_dataset.mask_vt[0]\n",
        "\n",
        "masker = NiftiMasker(mask_img=mask_filename, standardize=True)\n",
        "\n",
        "behavioral = pd.read_csv(haxby_dataset.session_target[0], sep=\" \")\n",
        "\n",
        "conditions = behavioral['labels']\n",
        "print(conditions.unique())\n",
        "\n",
        "fmri_masked = masker.fit_transform(fmri_filename)\n",
        "\n",
        "fmri_train, fmri_test, conditions_train, conditions_test = train_test_split(fmri_masked, conditions, test_size=0.2, random_state=0)\n"
      ],
      "execution_count": 0,
      "outputs": []
    },
    {
      "cell_type": "markdown",
      "metadata": {
        "id": "vvGrs3Ug_bkK",
        "colab_type": "text"
      },
      "source": [
        "# Building the Decoders\n",
        "\n",
        "\n",
        "\n",
        "\n"
      ]
    },
    {
      "cell_type": "markdown",
      "metadata": {
        "id": "aV1RcDczOsMC",
        "colab_type": "text"
      },
      "source": [
        "# Logistic Regression\n"
      ]
    },
    {
      "cell_type": "code",
      "metadata": {
        "id": "q9v-1wrYO1jo",
        "colab_type": "code",
        "colab": {
          "base_uri": "https://localhost:8080/",
          "height": 911
        },
        "outputId": "8c461782-debd-4fea-f298-4e14c1f0bd14"
      },
      "source": [
        "Log_reg_ovr = LogisticRegression(random_state=0, max_iter=500, multi_class='ovr').fit(fmri_train, conditions_train)\n",
        "Log_reg_ovo = LogisticRegression(random_state=0, max_iter=500, multi_class='multinomial').fit(fmri_train, conditions_train)\n",
        "\n",
        "log_reg_ovr_prediction=Log_reg_ovr.predict(fmri_test)\n",
        "log_reg_ovo_prediction=Log_reg_ovo.predict(fmri_test)\n",
        "\n",
        "Log_reg_ovr_report=classification_report(conditions_test,log_reg_ovr_prediction)\n",
        "Log_reg_ovo_report=classification_report(conditions_test,log_reg_ovo_prediction)\n",
        "\n",
        "print('One vs. One: '+str(Log_reg_ovo_report))\n",
        "print('One vs. Rest: '+str(Log_reg_ovr_report))\n",
        "\n",
        "cv_scores_ovo = cross_val_score(Log_reg_ovr, fmri_train, conditions_train, cv=5, verbose=1)\n",
        "cv_scores_ova = cross_val_score(Log_reg_ovo, fmri_train, conditions_train, cv=5, verbose=1)\n",
        "\n",
        "print('Cross Validation OvO:', cv_scores_ovo.mean())\n",
        "print('Cross Validation OvR:', cv_scores_ova.mean())\n",
        "\n",
        "plt.figure(figsize=(6, 4))\n",
        "plt.plot(cv_scores_ovo, label='Cross validation OvO')\n",
        "plt.plot(cv_scores_ova, label='Cross validation OvR')\n",
        "plt.legend(loc='best', frameon=False)\n",
        "show()\n"
      ],
      "execution_count": 72,
      "outputs": [
        {
          "output_type": "stream",
          "text": [
            "One vs. One:               precision    recall  f1-score   support\n",
            "\n",
            "      bottle       0.83      0.91      0.87        22\n",
            "         cat       0.85      0.94      0.89        18\n",
            "       chair       0.79      0.95      0.86        20\n",
            "        face       1.00      0.88      0.94        25\n",
            "       house       1.00      0.89      0.94        19\n",
            "        rest       0.95      0.96      0.95       117\n",
            "    scissors       0.95      0.82      0.88        22\n",
            "scrambledpix       0.96      1.00      0.98        25\n",
            "        shoe       0.95      0.87      0.91        23\n",
            "\n",
            "    accuracy                           0.93       291\n",
            "   macro avg       0.92      0.91      0.91       291\n",
            "weighted avg       0.93      0.93      0.93       291\n",
            "\n",
            "One vs. Rest:               precision    recall  f1-score   support\n",
            "\n",
            "      bottle       0.80      0.73      0.76        22\n",
            "         cat       0.81      0.94      0.87        18\n",
            "       chair       0.79      0.75      0.77        20\n",
            "        face       1.00      0.84      0.91        25\n",
            "       house       0.85      0.89      0.87        19\n",
            "        rest       0.94      0.97      0.95       117\n",
            "    scissors       0.86      0.86      0.86        22\n",
            "scrambledpix       1.00      0.96      0.98        25\n",
            "        shoe       0.83      0.87      0.85        23\n",
            "\n",
            "    accuracy                           0.90       291\n",
            "   macro avg       0.88      0.87      0.87       291\n",
            "weighted avg       0.90      0.90      0.90       291\n",
            "\n"
          ],
          "name": "stdout"
        },
        {
          "output_type": "stream",
          "text": [
            "[Parallel(n_jobs=1)]: Using backend SequentialBackend with 1 concurrent workers.\n",
            "[Parallel(n_jobs=1)]: Done   5 out of   5 | elapsed:    4.4s finished\n",
            "[Parallel(n_jobs=1)]: Using backend SequentialBackend with 1 concurrent workers.\n"
          ],
          "name": "stderr"
        },
        {
          "output_type": "stream",
          "text": [
            "Cross Validation OvO: 0.898357259138671\n",
            "Cross Validation OvR: 0.9026713038330619\n"
          ],
          "name": "stdout"
        },
        {
          "output_type": "stream",
          "text": [
            "[Parallel(n_jobs=1)]: Done   5 out of   5 | elapsed:    4.2s finished\n"
          ],
          "name": "stderr"
        },
        {
          "output_type": "display_data",
          "data": {
            "image/png": "[encoded data removed]",
            "text/plain": [
              "<Figure size 432x288 with 1 Axes>"
            ]
          },
          "metadata": {
            "tags": [],
            "needs_background": "light"
          }
        }
      ]
    },
    {
      "cell_type": "markdown",
      "metadata": {
        "id": "2AhY-zzfO7wL",
        "colab_type": "text"
      },
      "source": [
        "# Support Vector Machines"
      ]
    },
    {
      "cell_type": "code",
      "metadata": {
        "id": "sJIHCy30_vzg",
        "colab_type": "code",
        "colab": {
          "base_uri": "https://localhost:8080/",
          "height": 911
        },
        "outputId": "473f0766-4a18-4afa-954a-4a6c8dd4e5f9"
      },
      "source": [
        "svc = SVC(kernel='linear')\n",
        "svo=OneVsOneClassifier(svc)\n",
        "sva=OneVsRestClassifier(svc)\n",
        "\n",
        "svo.fit(fmri_train,conditions_train)\n",
        "sva.fit(fmri_train,conditions_train)\n",
        "\n",
        "\n",
        "svo_prediction = svo.predict(fmri_test)\n",
        "svo_report=classification_report(conditions_test,svo_prediction)\n",
        "\n",
        "sva_prediction = sva.predict(fmri_test)\n",
        "sva_report=classification_report(conditions_test,sva_prediction)\n",
        "\n",
        "print('One vs. One: ' + str(svo_report))\n",
        "print('One vs. Rest: '+ str(sva_report))\n",
        "\n",
        "cv_scores_ovo = cross_val_score(svo, fmri_train, conditions_train, cv=5, verbose=1)\n",
        "cv_scores_ova = cross_val_score(sva, fmri_train, conditions_train, cv=5, verbose=1)\n",
        "\n",
        "print('Cross Validation OvO:', cv_scores_ovo.mean())\n",
        "print('Cross Validation OvR:', cv_scores_ova.mean())\n",
        "\n",
        "plt.figure(figsize=(6, 4))\n",
        "plt.plot(cv_scores_ovo, label='Cross validation OvO')\n",
        "plt.plot(cv_scores_ova, label='Cross validation OvR')\n",
        "plt.legend(loc='best', frameon=False)\n",
        "show()\n"
      ],
      "execution_count": 73,
      "outputs": [
        {
          "output_type": "stream",
          "text": [
            "One vs. One:               precision    recall  f1-score   support\n",
            "\n",
            "      bottle       0.83      0.91      0.87        22\n",
            "         cat       0.80      0.89      0.84        18\n",
            "       chair       0.81      0.85      0.83        20\n",
            "        face       1.00      0.84      0.91        25\n",
            "       house       0.94      0.89      0.92        19\n",
            "        rest       0.96      0.96      0.96       117\n",
            "    scissors       0.91      0.91      0.91        22\n",
            "scrambledpix       0.88      0.92      0.90        25\n",
            "        shoe       0.95      0.91      0.93        23\n",
            "\n",
            "    accuracy                           0.92       291\n",
            "   macro avg       0.90      0.90      0.90       291\n",
            "weighted avg       0.92      0.92      0.92       291\n",
            "\n",
            "One vs. Rest:               precision    recall  f1-score   support\n",
            "\n",
            "      bottle       0.77      0.77      0.77        22\n",
            "         cat       0.73      0.89      0.80        18\n",
            "       chair       0.78      0.70      0.74        20\n",
            "        face       1.00      0.84      0.91        25\n",
            "       house       0.85      0.89      0.87        19\n",
            "        rest       0.94      0.96      0.95       117\n",
            "    scissors       0.78      0.82      0.80        22\n",
            "scrambledpix       0.92      0.96      0.94        25\n",
            "        shoe       0.85      0.74      0.79        23\n",
            "\n",
            "    accuracy                           0.88       291\n",
            "   macro avg       0.85      0.84      0.84       291\n",
            "weighted avg       0.88      0.88      0.88       291\n",
            "\n"
          ],
          "name": "stdout"
        },
        {
          "output_type": "stream",
          "text": [
            "[Parallel(n_jobs=1)]: Using backend SequentialBackend with 1 concurrent workers.\n",
            "[Parallel(n_jobs=1)]: Done   5 out of   5 | elapsed:    6.9s finished\n",
            "[Parallel(n_jobs=1)]: Using backend SequentialBackend with 1 concurrent workers.\n"
          ],
          "name": "stderr"
        },
        {
          "output_type": "stream",
          "text": [
            "Cross Validation OvO: 0.8879902323516353\n",
            "Cross Validation OvR: 0.8811269794287406\n"
          ],
          "name": "stdout"
        },
        {
          "output_type": "stream",
          "text": [
            "[Parallel(n_jobs=1)]: Done   5 out of   5 | elapsed:    6.8s finished\n"
          ],
          "name": "stderr"
        },
        {
          "output_type": "display_data",
          "data": {
            "image/png": "[encoded data removed]",
            "text/plain": [
              "<Figure size 432x288 with 1 Axes>"
            ]
          },
          "metadata": {
            "tags": [],
            "needs_background": "light"
          }
        }
      ]
    },
    {
      "cell_type": "markdown",
      "metadata": {
        "id": "qhwCL6qkPGbo",
        "colab_type": "text"
      },
      "source": [
        "# Gaussian Process Classifier"
      ]
    },
    {
      "cell_type": "code",
      "metadata": {
        "id": "W_AYj4EFLSlH",
        "colab_type": "code",
        "colab": {
          "base_uri": "https://localhost:8080/",
          "height": 666
        },
        "outputId": "d33fef9a-4f20-4419-c4fb-54e558b673b6"
      },
      "source": [
        "gpc_o = GaussianProcessClassifier(multi_class = 'one_vs_one').fit(fmri_train, conditions_train)\n",
        "gpc_r = GaussianProcessClassifier(multi_class = 'one_vs_rest').fit(fmri_train, conditions_train)\n",
        "\n",
        "gpc_o_prediction= gpc_o.predict(fmri_test)\n",
        "gpc_r_prediction= gpc_r.predict(fmri_test)\n",
        "\n",
        "gpc_o_report=classification_report(conditions_test,gpc_o_prediction)\n",
        "gpc_r_report=classification_report(conditions_test,gpc_r_prediction)\n",
        "\n",
        "print('One vs. One: ' + str(gpc_o_report))\n",
        "print('One vs. Rest: ' + str(gpc_r_report))\n",
        "\n",
        "cv_scores_ovo = cross_val_score(gpc_o, fmri_train, conditions_train, cv=5, verbose=1)\n",
        "cv_scores_ova = cross_val_score(gpc_r, fmri_train, conditions_train, cv=5, verbose=1)\n",
        "\n",
        "print('Cross Validation OvO:', cv_scores_ovo.mean())\n",
        "print('Cross Validation OvR:', cv_scores_ova.mean())\n",
        "\n",
        "\n",
        "plt.figure(figsize=(6, 4))\n",
        "plt.plot(cv_scores_ovo, label='Cross validation OvO')\n",
        "plt.plot(cv_scores_ova, label='Cross validation OvR')\n",
        "plt.legend(loc='best', frameon=False)\n",
        "show()"
      ],
      "execution_count": 0,
      "outputs": [
        {
          "output_type": "stream",
          "text": [
            "/usr/local/lib/python3.6/dist-packages/sklearn/metrics/_classification.py:1272: UndefinedMetricWarning: Precision and F-score are ill-defined and being set to 0.0 in labels with no predicted samples. Use `zero_division` parameter to control this behavior.\n",
            "  _warn_prf(average, modifier, msg_start, len(result))\n",
            "[Parallel(n_jobs=1)]: Using backend SequentialBackend with 1 concurrent workers.\n"
          ],
          "name": "stderr"
        },
        {
          "output_type": "stream",
          "text": [
            "One vs. One:               precision    recall  f1-score   support\n",
            "\n",
            "      bottle       0.83      0.86      0.84        22\n",
            "         cat       0.62      1.00      0.77        18\n",
            "       chair       0.77      0.85      0.81        20\n",
            "        face       0.86      0.72      0.78        25\n",
            "       house       0.90      0.95      0.92        19\n",
            "        rest       0.97      0.84      0.90       117\n",
            "    scissors       0.90      0.86      0.88        22\n",
            "scrambledpix       0.80      0.96      0.87        25\n",
            "        shoe       0.75      0.78      0.77        23\n",
            "\n",
            "    accuracy                           0.86       291\n",
            "   macro avg       0.82      0.87      0.84       291\n",
            "weighted avg       0.87      0.86      0.86       291\n",
            "\n",
            "One vs. Rest:               precision    recall  f1-score   support\n",
            "\n",
            "      bottle       0.00      0.00      0.00        22\n",
            "         cat       0.00      0.00      0.00        18\n",
            "       chair       0.00      0.00      0.00        20\n",
            "        face       0.00      0.00      0.00        25\n",
            "       house       0.00      0.00      0.00        19\n",
            "        rest       0.00      0.00      0.00       117\n",
            "    scissors       0.00      0.00      0.00        22\n",
            "scrambledpix       0.00      0.00      0.00        25\n",
            "        shoe       0.08      1.00      0.15        23\n",
            "\n",
            "    accuracy                           0.08       291\n",
            "   macro avg       0.01      0.11      0.02       291\n",
            "weighted avg       0.01      0.08      0.01       291\n",
            "\n"
          ],
          "name": "stdout"
        },
        {
          "output_type": "stream",
          "text": [
            "[Parallel(n_jobs=1)]: Done   5 out of   5 | elapsed:   35.4s finished\n",
            "[Parallel(n_jobs=1)]: Using backend SequentialBackend with 1 concurrent workers.\n"
          ],
          "name": "stderr"
        }
      ]
    },
    {
      "cell_type": "markdown",
      "metadata": {
        "id": "awmk6S5sPiT5",
        "colab_type": "text"
      },
      "source": [
        "# Gradient Boosting Classifier\n"
      ]
    },
    {
      "cell_type": "code",
      "metadata": {
        "id": "1ZUDEKq8Pnmy",
        "colab_type": "code",
        "colab": {
          "base_uri": "https://localhost:8080/",
          "height": 289
        },
        "outputId": "dc6d2500-6ace-43ed-96e3-c54bac1fc553"
      },
      "source": [
        "gbc = GradientBoostingClassifier(random_state=0)\n",
        "gbc.fit(fmri_train, conditions_train)\n",
        "gbc_prediction=gbc.predict(fmri_test)\n",
        "gbc_report=classification_report(conditions_test,gbc_prediction)\n",
        "\n",
        "print(gbc_report)\n",
        "\n",
        "cv_scores = cross_val_score(gbc, fmri_train, conditions_train, cv=5, verbose=1)\n",
        "\n",
        "\n",
        "print('Cross Validation:', cv_scores.mean())\n",
        "\n",
        "\n",
        "plt.figure(figsize=(6, 4))\n",
        "plt.plot(cv_scores, label='Cross validation')\n",
        "plt.legend(loc='best', frameon=False)\n",
        "show()\n"
      ],
      "execution_count": 55,
      "outputs": [
        {
          "output_type": "stream",
          "text": [
            "              precision    recall  f1-score   support\n",
            "\n",
            "      bottle       0.62      0.59      0.60        22\n",
            "         cat       0.55      0.61      0.58        18\n",
            "       chair       0.48      0.60      0.53        20\n",
            "        face       0.78      0.56      0.65        25\n",
            "       house       1.00      0.79      0.88        19\n",
            "        rest       0.86      0.96      0.91       117\n",
            "    scissors       0.56      0.41      0.47        22\n",
            "scrambledpix       0.75      0.60      0.67        25\n",
            "        shoe       0.54      0.61      0.57        23\n",
            "\n",
            "    accuracy                           0.74       291\n",
            "   macro avg       0.68      0.64      0.65       291\n",
            "weighted avg       0.74      0.74      0.73       291\n",
            "\n"
          ],
          "name": "stdout"
        }
      ]
    },
    {
      "cell_type": "code",
      "metadata": {
        "id": "Ce1F6t01Am3g",
        "colab_type": "code",
        "colab": {}
      },
      "source": [
        ""
      ],
      "execution_count": 0,
      "outputs": []
    }
  ]
}